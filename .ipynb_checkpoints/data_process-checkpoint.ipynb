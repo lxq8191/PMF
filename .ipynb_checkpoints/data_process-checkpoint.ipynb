{
 "cells": [
  {
   "cell_type": "code",
   "execution_count": 4,
   "metadata": {
    "collapsed": false
   },
   "outputs": [
    {
     "name": "stdout",
     "output_type": "stream",
     "text": [
      "6149\n",
      "4742\n",
      "<class 'int'>\n",
      "<class 'str'>\n"
     ]
    }
   ],
   "source": [
    "import os\n",
    "from pandas import DataFrame,Series\n",
    "import pandas as pd\n",
    "import numpy as np\n",
    "from numpy import linalg as la\n",
    "import pickle\n",
    "\n",
    "def cosSimilar(inA, inB):\n",
    "    inA = np.mat(inA)\n",
    "    inB = np.mat(inB)\n",
    "    num = float(inA * inB.T)\n",
    "    denom = la.norm(inA) * la.norm(inB)\n",
    "    return 0.5 + 0.5 * (num / denom)\n",
    "\n",
    "city_name = 'LA' # city_name取值为NYC或LA\n",
    "# path = os.path.join('/home/lxq/FourSquare Dataset/Tips/', city_name, city_name+'-tips-dayu5-dayu10-1207.csv')\n",
    "path = os.path.join('C:/workspace/Location-Recommendation/Dataset/Tips/', city_name, city_name+'-tips-dayu10-dayu5.csv')\n",
    "df = pd.read_csv(path, encoding=\"ISO-8859-1\")\n",
    "# 提取用户id并映射\n",
    "userid_set = list(set(df[:].userid.values))\n",
    "user_id_index = dict((user_id, index) for user_id, index in zip(userid_set, range(len(userid_set))))\n",
    "# 提取位置id并映射\n",
    "venueid_set = list(set(df[:].venueid.values))\n",
    "venue_id_index = dict((venue_id, index) for venue_id, index in zip(venueid_set, range(len(venueid_set))))\n",
    "print(len(userid_set))\n",
    "print(len(venueid_set))\n",
    "\n",
    "# 构建用户-地点签到次数矩阵（等价于评分矩阵）\n",
    "R = np.zeros([len(userid_set), len(venueid_set)])\n",
    "for i in range(len(df)):\n",
    "    # 读取用户id和位置id\n",
    "    userid = df[i:i+1]['userid'].item()\n",
    "    venueid = df[i:i+1]['venueid'].item()\n",
    "    # 获取用户和位置index\n",
    "    user_index = user_id_index[userid]\n",
    "    venue_index = venue_id_index[venueid]\n",
    "    # 累计签到次数\n",
    "    R[user_index, venue_index] += 1\n",
    "data = []\n",
    "for i in range(R.shape[0]):\n",
    "    for j in range(R.shape[1]):\n",
    "        if R[i][j] > 0:\n",
    "            data.append([int(i), int(j), float(R[i][j])])\n",
    "data = np.array(data)\n",
    "np.random.shuffle(data)\n",
    "\n",
    "# # 台式机上的文件路径\n",
    "# # 将用户id与index映射写入文件\n",
    "# pickle.dump(user_id_index, open(os.path.join('/home/lxq/FourSquare Dataset/Tips/', city_name, city_name+'-userid-index.pkl'),'wb'))\n",
    "# # 将位置id与index映射写入文件\n",
    "# pickle.dump(venue_id_index,open(os.path.join('/home/lxq/FourSquare Dataset/Tips/', city_name, city_name+'-venueid-index.pkl'),'wb'))\n",
    "# # 将用户-地点签到记录写入文件中\n",
    "# path_record = os.path.join('/home/lxq/FourSquare Dataset/Tips/', city_name, city_name+'-tips-records.txt')\n",
    "\n",
    "# 笔记本上的文件路径\n",
    "# 将用户id与index映射写入文件\n",
    "pickle.dump(user_id_index, open(os.path.join('C:/workspace/PMF/data/', city_name, city_name+'-userid-index.pkl'),'wb'))\n",
    "# 将位置id与index映射写入文件\n",
    "pickle.dump(venue_id_index,open(os.path.join('C:/workspace/PMF/data/', city_name, city_name+'-venueid-index.pkl'),'wb'))\n",
    "# 将用户-地点签到记录写入文件中\n",
    "path_record = os.path.join('C:/workspace/PMF/data/', city_name, city_name+'-tips-records.txt')\n",
    "np.savetxt(path_record, data, fmt='%f')\n",
    "\n",
    "# np读入csv文件\n",
    "# my_matrix = np.loadtxt(open(\"c:\\\\1.csv\",\"rb\"),delimiter=\",\",skiprows=0)\n"
   ]
  },
  {
   "cell_type": "code",
   "execution_count": null,
   "metadata": {
    "collapsed": true
   },
   "outputs": [],
   "source": []
  }
 ],
 "metadata": {
  "kernelspec": {
   "display_name": "Python 3",
   "language": "python",
   "name": "python3"
  },
  "language_info": {
   "codemirror_mode": {
    "name": "ipython",
    "version": 3
   },
   "file_extension": ".py",
   "mimetype": "text/x-python",
   "name": "python",
   "nbconvert_exporter": "python",
   "pygments_lexer": "ipython3",
   "version": "3.5.4"
  }
 },
 "nbformat": 4,
 "nbformat_minor": 2
}
